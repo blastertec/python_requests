{
 "cells": [
  {
   "cell_type": "code",
   "execution_count": null,
   "metadata": {},
   "outputs": [],
   "source": [
    "# importing the requests library \n",
    "import requests"
   ]
  },
  {
   "cell_type": "code",
   "execution_count": null,
   "metadata": {},
   "outputs": [],
   "source": [
    "# api-endpoint for posts\n",
    "URL = \"http://jsonplaceholder.typicode.com/posts\"\n",
    "\n",
    "# sending get request and saving the response as response object \n",
    "r = requests.get(url = URL) \n",
    "\n",
    "# extracting data in json format \n",
    "posts = r.json()"
   ]
  },
  {
   "cell_type": "code",
   "execution_count": null,
   "metadata": {
    "tags": [
     "outputPrepend"
    ]
   },
   "outputs": [],
   "source": [
    "for i in posts[2]:\n",
    "    print(posts[2][i])\n"
   ]
  },
  {
   "cell_type": "code",
   "execution_count": null,
   "metadata": {},
   "outputs": [],
   "source": [
    "# api-endpoint for comments \n",
    "URL = \"http://jsonplaceholder.typicode.com/comments\"\n",
    "\n",
    "# sending get request and saving the response as response object \n",
    "r = requests.get(url = URL) \n",
    "\n",
    "# extracting data in json format \n",
    "comments = r.json() "
   ]
  },
  {
   "cell_type": "code",
   "execution_count": null,
   "metadata": {},
   "outputs": [],
   "source": []
  }
 ],
 "metadata": {
  "language_info": {
   "codemirror_mode": {
    "name": "ipython",
    "version": 3
   },
   "file_extension": ".py",
   "mimetype": "text/x-python",
   "name": "python",
   "nbconvert_exporter": "python",
   "pygments_lexer": "ipython3",
   "version": 3
  },
  "orig_nbformat": 2,
  "kernelspec": {
   "name": "python_defaultSpec_1593360506157",
   "display_name": "Python 3.8.1 64-bit"
  }
 },
 "nbformat": 4,
 "nbformat_minor": 2
}