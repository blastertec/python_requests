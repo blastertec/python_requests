{
 "cells": [
  {
   "cell_type": "code",
   "execution_count": 19,
   "metadata": {},
   "outputs": [],
   "source": [
    "# importing the requests library \n",
    "import requests \n",
    "\n",
    "# api-endpoint \n",
    "URL = \"http://jsonplaceholder.typicode.com/posts\"\n",
    "\n",
    "# defining a params dict for the parameters to be sent to the API \n",
    "PARAMS = {'address':location} \n",
    "\n",
    "# sending get request and saving the response as response object \n",
    "r = requests.get(url = URL) \n",
    "\n",
    "# extracting data in json format \n",
    "data = r.json() \n",
    "\n",
    "\n",
    "# extracting latitude, longitude and formatted address \n",
    "# of the first matching location \n",
    "# latitude = data['results'][0]['geometry']['location']['lat'] \n",
    "# longitude = data['results'][0]['geometry']['location']['lng'] \n",
    "# formatted_address = data['results'][0]['formatted_address'] \n",
    "\n",
    "# printing the output \n",
    "# print(\"Latitude:%s\\nLongitude:%s\\nFormatted Address:%s\"\n",
    "# \t%(latitude, longitude,formatted_address)) \n"
   ]
  },
  {
   "cell_type": "code",
   "execution_count": 59,
   "metadata": {
    "tags": [
     "outputPrepend"
    ]
   },
   "outputs": [
    {
     "output_type": "stream",
     "name": "stdout",
     "text": "1\n1\nsunt aut facere repellat provident occaecati excepturi optio reprehenderit\nquia et suscipit\nsuscipit recusandae consequuntur expedita et cum\nreprehenderit molestiae ut ut quas totam\nnostrum rerum est autem sunt rem eveniet architecto\n"
    }
   ],
   "source": [
    "for i in data[0]:\n",
    "    print(data[0][i])\n"
   ]
  }
 ],
 "metadata": {
  "language_info": {
   "codemirror_mode": {
    "name": "ipython",
    "version": 3
   },
   "file_extension": ".py",
   "mimetype": "text/x-python",
   "name": "python",
   "nbconvert_exporter": "python",
   "pygments_lexer": "ipython3",
   "version": 3
  },
  "orig_nbformat": 2,
  "kernelspec": {
   "name": "python_defaultSpec_1593360506157",
   "display_name": "Python 3.8.1 64-bit"
  }
 },
 "nbformat": 4,
 "nbformat_minor": 2
}