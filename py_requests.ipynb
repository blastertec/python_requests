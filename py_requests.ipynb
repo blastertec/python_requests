{
 "cells": [
  {
   "cell_type": "code",
   "execution_count": 16,
   "metadata": {},
   "outputs": [],
   "source": [
    "# importing the requests library \n",
    "import requests"
   ]
  },
  {
   "cell_type": "code",
   "execution_count": 18,
   "metadata": {},
   "outputs": [],
   "source": [
    "# api-endpoint for posts\n",
    "URL = \"http://jsonplaceholder.typicode.com/posts\"\n",
    "\n",
    "# sending get request and saving the response as response object \n",
    "r = requests.get(url = URL) \n",
    "\n",
    "# extracting data in json format \n",
    "posts = r.json()"
   ]
  },
  {
   "cell_type": "code",
   "execution_count": 17,
   "metadata": {},
   "outputs": [],
   "source": [
    "# api-endpoint for comments \n",
    "URL = \"http://jsonplaceholder.typicode.com/comments\"\n",
    "\n",
    "# sending get request and saving the response as response object \n",
    "r = requests.get(url = URL) \n",
    "\n",
    "# extracting data in json format \n",
    "comments = r.json() "
   ]
  },
  {
   "cell_type": "code",
   "execution_count": 19,
   "metadata": {
    "tags": []
   },
   "outputs": [
    {
     "output_type": "stream",
     "name": "stdout",
     "text": "1\n3\nea molestias quasi exercitationem repellat qui ipsa sit aut\net iusto sed quo iure\nvoluptatem occaecati omnis eligendi aut ad\nvoluptatem doloribus vel accusantium quis pariatur\nmolestiae porro eius odio et labore et velit aut\n\n fetched data is stored in <class 'list'>\n"
    }
   ],
   "source": [
    "# check if everything is working and check data type (posts)\n",
    "for i in posts[2]:\n",
    "    print(posts[2][i])\n",
    "\n",
    "print(f\"\\n fetched data is stored in {type(posts)}\")"
   ]
  },
  {
   "cell_type": "code",
   "execution_count": 20,
   "metadata": {
    "tags": []
   },
   "outputs": [
    {
     "output_type": "stream",
     "name": "stdout",
     "text": "{'postId': 1, 'id': 1, 'name': 'id labore ex et quam laborum', 'email': 'Eliseo@gardner.biz', 'body': 'laudantium enim quasi est quidem magnam voluptate ipsam eos\\ntempora quo necessitatibus\\ndolor quam autem quasi\\nreiciendis et nam sapiente accusantium'}\n"
    }
   ],
   "source": [
    "# displaying/check fetched data (comments)\n",
    "print(comments[0])"
   ]
  },
  {
   "cell_type": "code",
   "execution_count": null,
   "metadata": {},
   "outputs": [],
   "source": []
  }
 ],
 "metadata": {
  "language_info": {
   "codemirror_mode": {
    "name": "ipython",
    "version": 3
   },
   "file_extension": ".py",
   "mimetype": "text/x-python",
   "name": "python",
   "nbconvert_exporter": "python",
   "pygments_lexer": "ipython3",
   "version": 3
  },
  "orig_nbformat": 2,
  "kernelspec": {
   "name": "python_defaultSpec_1596403873113",
   "display_name": "Python 3.8.1 64-bit"
  }
 },
 "nbformat": 4,
 "nbformat_minor": 2
}